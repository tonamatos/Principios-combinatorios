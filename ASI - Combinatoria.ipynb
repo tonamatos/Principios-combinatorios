{
 "cells": [
  {
   "cell_type": "markdown",
   "metadata": {},
   "source": [
    "# Todo lo que quieres saber de Combinatoria"
   ]
  },
  {
   "cell_type": "markdown",
   "metadata": {},
   "source": [
    "## Código"
   ]
  },
  {
   "cell_type": "code",
   "execution_count": null,
   "metadata": {},
   "outputs": [],
   "source": [
    "import itertools as it\n",
    "import numpy as np\n",
    "\n",
    "def OrdenacionesConRepeticion(A, m):\n",
    "    ord_rep = [''.join(word) for word in it.product(A, repeat=m)]\n",
    "    print(\"Se encontraron\", len(ord_rep), \"ordenaciones con repetición.\")\n",
    "    return ord_rep\n",
    "\n",
    "def Permutame(n):\n",
    "    return list(np.random.permutation(n))\n",
    "\n",
    "def Combinaciones(A, m, printT=True):\n",
    "    comb = [''.join(word) for word in it.combinations(A, r=m)]\n",
    "    if printT:\n",
    "        print(\"Se encontraron\", len(comb), \"combinaciones.\")\n",
    "    return comb\n",
    "\n",
    "def Permutaciones(A):\n",
    "    perm = [''.join(word) for word in it.permutations(A)]\n",
    "    print(\"Se encontraron\", len(perm), \"permutaciones.\")\n",
    "    return perm\n",
    "\n",
    "def Ordenaciones(A, m):\n",
    "    ord_s = []\n",
    "    comb = Combinaciones(A, m, printT=False)\n",
    "    for word in comb:\n",
    "        ord_s += it.permutations(word, r=m)\n",
    "    print(\"Se encontraron\", len(ord_s), \"ordenaciones.\")\n",
    "    return [''.join(word) for word in ord_s]"
   ]
  },
  {
   "cell_type": "markdown",
   "metadata": {},
   "source": [
    "## Preliminares"
   ]
  },
  {
   "cell_type": "markdown",
   "metadata": {},
   "source": [
    "Recordemos el producto cartesiano: $$A\\times B:=\\{(a,b):a\\in A\\land b\\in B\\}.$$\n",
    "\n",
    "$f\\subseteq A\\times B$ es una función de $A$ en $B$ si $$\\forall a\\in A\\ \\exists!b\\in B\\quad(\"b=f(a)\")\\quad(a,b)\\in f.$$\n",
    "\n",
    "Una función $f$ es inyectiva si para todo $a,b\\in A$, $$f(a)=f(b)\\implies a=b$$\n",
    "\n",
    "y es sobreyectiva si para todo $b\\in B$ existe $a\\in A$ tal que $f(a)=b$. $f$ es biyectiva si es inyectiva y sobreyectiva."
   ]
  },
  {
   "cell_type": "markdown",
   "metadata": {},
   "source": [
    "Notación: $[n]:=\\{k\\in\\mathbb N:k<n\\}=\\{0,\\dots,n-1\\}$.\n",
    "\n",
    "Ejemplos: $$[0]=\\emptyset\\qquad[1]=\\{0\\}\\qquad[12]=\\{0,1,2,3,4,5,6,7,8,9,10,11\\}.$$\n",
    "\n",
    "Observación: La cardinalidad de $[n]$, $$|[n]|=n.$$\n",
    "\n",
    "Lo importante es que $[n]$ representa a cualquier conjunto de cardinalidad $n$: $$X=\\{x_0,x_1\\dots,x_{n-1}\\}\\simeq[n].$$"
   ]
  },
  {
   "cell_type": "markdown",
   "metadata": {},
   "source": [
    "## Ordenaciones con repetición"
   ]
  },
  {
   "cell_type": "markdown",
   "metadata": {},
   "source": [
    "Una ordenación con repetición de un conjunto $A$ con $n$ elementos tomadas de $m$ en $m$ es una función $f\\colon[m]\\to A$. Al conjunto de todas éstas lo denotamos por $A^{[m]}$."
   ]
  },
  {
   "cell_type": "markdown",
   "metadata": {},
   "source": [
    "### Ejemplo 1"
   ]
  },
  {
   "cell_type": "markdown",
   "metadata": {},
   "source": [
    "$A=\\{*,-\\}$ tiene $n=2$ elementos, sus ordenaciones con repetición tomadas de $m=2$ en $m=2$ son:\n",
    "\n",
    "$$f\\colon\\{0,1\\}\\to\\{*,-\\}\\qquad i\\mapsto f(i)$$\n",
    "\n",
    "Si escribimos la función como $f(0)f(1)$:\n",
    "\n",
    "$$**\\qquad*-\\qquad-*\\qquad--$$"
   ]
  },
  {
   "cell_type": "markdown",
   "metadata": {},
   "source": [
    "### Ejemplo 2"
   ]
  },
  {
   "cell_type": "markdown",
   "metadata": {},
   "source": [
    "$A=\\{*,-\\}$ tiene $n=2$ elementos, sus ordenaciones con repetición tomadas de $m=3$ en $m=3$ son:\n",
    "\n",
    "$$f\\colon\\{0,1,2\\}\\to\\{*,-\\}\\qquad i\\mapsto f(i)$$\n",
    "\n",
    "Si escribimos la función como $f(0)f(1)f(2)$:\n",
    "\n",
    "$$***\\qquad**-\\qquad*-*\\qquad*--\\qquad-**\\qquad-*-\\qquad--*\\qquad---$$"
   ]
  },
  {
   "cell_type": "markdown",
   "metadata": {},
   "source": [
    "### Ejemplo 3"
   ]
  },
  {
   "cell_type": "markdown",
   "metadata": {},
   "source": [
    "$A=\\{a,b,c,d,e\\}$ tiene $n=5$ elementos, sus ordenaciones con repetición tomadas de $m=6$ en $m=6$ son:"
   ]
  },
  {
   "cell_type": "code",
   "execution_count": null,
   "metadata": {},
   "outputs": [],
   "source": [
    "A = 'abcde'\n",
    "m = 10\n",
    "OrdenacionesConRepeticion(A, m)"
   ]
  },
  {
   "cell_type": "markdown",
   "metadata": {},
   "source": [
    "### ¿Cuántas ordenaciones con repetición hay en general?"
   ]
  },
  {
   "cell_type": "markdown",
   "metadata": {},
   "source": [
    "Basta con calcular la cardinalidad de $A^{[m]}\\simeq[n]^{[m]}$, a veces denotada por $\\operatorname{OR}_n^m$. No es difícil ver que es $n^m$. En efecto, esto sale por inducción sobre $m$. Hint: $|A^{\\emptyset}|=1=n^0$ y hay exactamente $n$ funciones de $[m]$ en $A$ que extienden una función dada de $[m-1]$ en $A$.\n",
    "\n",
    "Intuitivamente, cada ordenación con repetición elige un elemento de $|A|=n$ posibilidades para $f(0)$, después elegimos a $f(1),f(2),\\dots,f(m-1)$ de la misma forma, de donde tenemos $n\\cdot\\underbrace{n\\cdots n}_{m-1}=n^m$ posibilidades en total."
   ]
  },
  {
   "cell_type": "code",
   "execution_count": null,
   "metadata": {},
   "outputs": [],
   "source": [
    "len(A)**9"
   ]
  },
  {
   "cell_type": "markdown",
   "metadata": {},
   "source": [
    "## Ordenaciones"
   ]
  },
  {
   "cell_type": "markdown",
   "metadata": {},
   "source": [
    "¿Y si no queremos que se repitan los elementos de $A$? Pues basta con tomar funciones inyectivas.\n",
    "\n",
    "Una ordenación de un conjunto $A$ con $n$ elementos tomadas de $m$ en $m$ es una función inyectiva $f\\colon[m]\\to A$.\n",
    "\n",
    "Observación: si existe una ordenación, necesariamente $m\\leq n$."
   ]
  },
  {
   "cell_type": "markdown",
   "metadata": {},
   "source": [
    "### Ejemplo 1"
   ]
  },
  {
   "cell_type": "markdown",
   "metadata": {},
   "source": [
    "$A=\\{*,-\\}$ tiene $n=2$ elementos, sus ordenaciones tomadas de $m=2$ en $m=2$ son:\n",
    "\n",
    "$$f\\colon\\{0,1\\}\\to\\{*,-\\}\\qquad i\\mapsto f(i)$$\n",
    "\n",
    "Si escribimos la función como $f(0)f(1)$:\n",
    "\n",
    "$$*-\\qquad-*$$"
   ]
  },
  {
   "cell_type": "markdown",
   "metadata": {},
   "source": [
    "### Ejemplo 2"
   ]
  },
  {
   "cell_type": "markdown",
   "metadata": {},
   "source": [
    "$A=\\{a,b,c,d,e\\}$ tiene $n=5$ elementos, sus ordenaciones tomadas de $m=6$ en $m=6$ son:"
   ]
  },
  {
   "cell_type": "code",
   "execution_count": null,
   "metadata": {},
   "outputs": [],
   "source": [
    "A = 'abcde'\n",
    "m = 3\n",
    "Ordenaciones(A, m)"
   ]
  },
  {
   "cell_type": "markdown",
   "metadata": {},
   "source": [
    "### ¿Cuántas ordenaciones hay en general?"
   ]
  },
  {
   "cell_type": "markdown",
   "metadata": {},
   "source": [
    "Se denota por $\\operatorname{O}_n^m$. Para $f(0)$, tenemos $|A|=n$ posibles elecciones, pero ahora para $f(1)$, por la inyectividad, no podemos elegir $f(0)$, así nos restan $n-1$ posibles elecciones. En general, para elegir $f(i)$, debemos excluir todas las elecciones previas, así nos quedan $n-i$. En suma, cuando $m\\leq n$,\n",
    "\n",
    "$$\\operatorname{O}_n^m=n(n-1)\\cdots(n-m+1)=\\frac{n!}{(n-m)!}.$$\n",
    "\n",
    "Formalmente, la prueba se hace por inducción sobre $m$. Hint: $\\operatorname O_n^m=(n-m+1)\\operatorname{O}_n^{m-1}$."
   ]
  },
  {
   "cell_type": "code",
   "execution_count": null,
   "metadata": {},
   "outputs": [],
   "source": [
    "from math import factorial as fact\n",
    "\n",
    "fact(5)/fact(5-m)"
   ]
  },
  {
   "cell_type": "markdown",
   "metadata": {},
   "source": [
    "## Permutaciones"
   ]
  },
  {
   "cell_type": "markdown",
   "metadata": {},
   "source": [
    "¿Qué pasa cuando $|A|=m$?\n",
    "\n",
    "Ejercicio (vendrá en la tarea): si $f\\colon A\\to A$ es inyectiva, entonces es biyectiva. Hint: $A$ es finito.\n",
    "\n",
    "Una permutación de un conjunto $A$ con $n$ elementos es una función biyectiva $f\\colon A\\to A$. El conjunto de éstas se suele denotar $P_A$ o $P_n$."
   ]
  },
  {
   "cell_type": "markdown",
   "metadata": {},
   "source": [
    "### Ejemplo"
   ]
  },
  {
   "cell_type": "code",
   "execution_count": null,
   "metadata": {},
   "outputs": [],
   "source": [
    "Permutame(10)\n",
    "Permutaciones('ABCD')"
   ]
  },
  {
   "cell_type": "markdown",
   "metadata": {},
   "source": [
    "### ¿Cuántas permutaciones hay en general?"
   ]
  },
  {
   "cell_type": "markdown",
   "metadata": {},
   "source": [
    "Es un caso particular de las ordenaciones, cuando $n=m$.\n",
    "\n",
    "Suele denotarse como $$\\operatorname P_n=\\operatorname{O}_n^n=n!$$"
   ]
  },
  {
   "cell_type": "markdown",
   "metadata": {},
   "source": [
    "## Combinaciones (las más interesantes)"
   ]
  },
  {
   "cell_type": "markdown",
   "metadata": {},
   "source": [
    "Sean $X$ un conjunto de $n$ elementos y $m\\in\\mathbb N$. Denotemos por ${X\\choose m}$ a la colección de subconjuntos de $X$ con precisamente $m$ elementos, es decir,\n",
    "\n",
    "$${X\\choose m}:=\\{A\\subseteq X:|A|=m\\}\\subseteq\\wp(X).$$\n",
    "\n",
    "Por ejemplo:\n",
    "\n",
    "$${X\\choose 0}=\\{\\emptyset\\}\\qquad{X\\choose 1}=\\{\\{x\\}:x\\in X\\}\\qquad{X\\choose|X|}=\\{X\\}\\qquad{X\\choose|X|+1}=\\emptyset$$"
   ]
  },
  {
   "cell_type": "markdown",
   "metadata": {},
   "source": [
    "Las combinaciones de $n$ (o de $X$) en $m$, se denota por $\\operatorname C_n^m$ o también ${n\\choose m}$ y es la cardinalidad de ${X\\choose m}$, es decir, la cantidad de subconjuntos de $X$ de tamaño $m$.\n",
    "\n",
    "Por ejemplo:\n",
    "\n",
    "$${n\\choose 0}=1\\qquad{n\\choose 1}=n\\qquad{n\\choose n}=1\\qquad{n\\choose n+1}=0$$"
   ]
  },
  {
   "cell_type": "markdown",
   "metadata": {},
   "source": [
    "### Ejemplo 1"
   ]
  },
  {
   "cell_type": "code",
   "execution_count": null,
   "metadata": {},
   "outputs": [],
   "source": [
    "X = {'Juan','María','José','Paco'}\n",
    "m = 2\n",
    "\n",
    "Combinaciones(X, m)"
   ]
  },
  {
   "cell_type": "markdown",
   "metadata": {},
   "source": [
    "### Propiedades"
   ]
  },
  {
   "cell_type": "markdown",
   "metadata": {},
   "source": [
    "$${n\\choose m}={n\\choose n-m}$$\n",
    "\n",
    "porque escoger $m$ elementos de $n$ es lo mismo que no escoger $n-m$ de $m$.\n",
    "\n",
    "$$\\sum_{m=0}^n{n\\choose m}=2^n$$\n",
    "\n",
    "porque todo subconjunto de $X$ tiene cardinalidad entre $0$ y $n$ y en total hay $2^n$ de ellos."
   ]
  },
  {
   "cell_type": "markdown",
   "metadata": {},
   "source": [
    "### ¿Cuántas combinaciones hay en general?"
   ]
  },
  {
   "cell_type": "markdown",
   "metadata": {},
   "source": [
    "Si $A\\subseteq X$, entonces hay una función inyectiva de $A$ en $X$ (la inclusión $a\\mapsto a$). Ésta no es única, pues por cada permutación $\\varphi$ de $A$ hay otra función inyectiva $(a\\mapsto a)\\circ\\varphi$.\n",
    "\n",
    "De hecho, probaremos que\n",
    "\n",
    "$$\\operatorname O_n^m=\\operatorname C_n^m\\operatorname P_m$$\n",
    "\n",
    "De aquí, despejando, se obtiene que\n",
    "\n",
    "$$\\boxed{{n\\choose m}=\\operatorname C_n^m=\\frac{n!}{(n-m)!m!}}.$$"
   ]
  },
  {
   "cell_type": "code",
   "execution_count": null,
   "metadata": {},
   "outputs": [],
   "source": [
    "#from math import comb\n",
    "\n",
    "#comb(4,2)"
   ]
  },
  {
   "cell_type": "markdown",
   "metadata": {},
   "source": [
    "### Ejemplo 2"
   ]
  },
  {
   "cell_type": "markdown",
   "metadata": {},
   "source": [
    "¿De cuántas formas se pueden elegir dos cartas distintas de una baraja de 52 cartas?\n",
    "\n",
    "El conjunto de cartas $X$ tiene $n=52$ elementos. Cada elección es un subconjunto de dos cartas ($m=2$), por lo cual basta con calcular\n",
    "\n",
    "$${52\\choose2}=\\frac{52!}{(52-2)!2!}=\\frac{80658175170943878571660636856403766975289505440883277824000000000000}{60828186403426756087225216332129537688755283137921024000000000000}=1326.$$\n",
    "\n",
    "O mejor,\n",
    "\n",
    "$${52\\choose2}=\\frac{52!}{(52-2)!2!}=\\frac{52!}{(50)!2}=\\frac{52\\cdot51\\cdot(50)!}{(50)!2}=\\frac{52\\cdot51}{2}=1326.$$"
   ]
  },
  {
   "cell_type": "markdown",
   "metadata": {},
   "source": [
    "Ojo, los factoriales crecen muy rápido (hiper-exponencialmente rápido):"
   ]
  },
  {
   "cell_type": "code",
   "execution_count": null,
   "metadata": {},
   "outputs": [],
   "source": [
    "for n in range(100):\n",
    "    print(fact(n))"
   ]
  }
 ],
 "metadata": {
  "kernelspec": {
   "display_name": "Python 3",
   "language": "python",
   "name": "python3"
  },
  "language_info": {
   "codemirror_mode": {
    "name": "ipython",
    "version": 3
   },
   "file_extension": ".py",
   "mimetype": "text/x-python",
   "name": "python",
   "nbconvert_exporter": "python",
   "pygments_lexer": "ipython3",
   "version": "3.7.1"
  }
 },
 "nbformat": 4,
 "nbformat_minor": 2
}
